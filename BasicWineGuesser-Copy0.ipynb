{
 "metadata": {
  "name": "",
  "signature": "sha256:95fe225839282989a9c43bad61c53424ad706d9d274659f15fea0dedaee5c83f"
 },
 "nbformat": 3,
 "nbformat_minor": 0,
 "worksheets": [
  {
   "cells": [
    {
     "cell_type": "markdown",
     "metadata": {},
     "source": [
      "#Basic Wine Guesser\n",
      "Takes a tasting note and guesses the style (country > varietal) of the wine. \n",
      "\n",
      "This approach simply uses my personal tasting notes (~500 after filtering) and applies tf-idf, treating each note as a \"document\". The classifier is a boosted decision-tree, and in the 10% test set (n= ~50), classification accuracy was ~20%. This is pretty good considering there are 27 different categories. When it fails it seems to be close (e.g. classifying Teachworth Cab as a Bordeaux Blend from Lebanon). \n",
      "\n",
      "Looking at the 4 results in the test set with high probability (>.5), there's only one misclassification: Taittinger Champagne Brut. Actually it was classified correctly, as France > Champagne Blend. However the gold data incorrectly gives the style as France > Chardonnay.\n",
      "\n",
      "###Bugs/Tweaks:\n",
      "* There's a plaintext error in reading the inputs, causing the evaluation to fail. *Solution*: Apply a transform in cleaning to convert all the text to at least unicode (ascii?). \n",
      "\n",
      "###Next Steps, ideas for improvement:\n",
      "* Build a front-end (prototype in Sketch, refer to evernote for product concepts). \n",
      "* Tweak the incoming dataset - augment with cellartracker / wine.com.\n",
      "* Build sub-classifiers for acidity, tannins, alcohol, fruit, etc. Train them on curated gold sets (e.g. Chablis, Riesling, etc. For high-acid). "
     ]
    },
    {
     "cell_type": "code",
     "collapsed": false,
     "input": [
      "import re\n",
      "from __future__ import division\n",
      "import sys, csv, datetime, re, pandas as pd, numpy as np, math\n",
      "from datetime import timedelta\n",
      "from pandas import DataFrame, Series, date_range, concat\n",
      "import graphlab as gl\n",
      "\n",
      "\n",
      "%matplotlib inline"
     ],
     "language": "python",
     "metadata": {},
     "outputs": [],
     "prompt_number": 2
    },
    {
     "cell_type": "code",
     "collapsed": false,
     "input": [
      "raw = pd.read_csv('rajiv_ct_notes.tsv', delimiter='\\t', infer_datetime_format=True)"
     ],
     "language": "python",
     "metadata": {},
     "outputs": [],
     "prompt_number": 3
    },
    {
     "cell_type": "code",
     "collapsed": false,
     "input": [
      "def curateWineDF(rawDF):\n",
      "    #Remove notes on flawed bottles:\n",
      "    d    = rawDF[rawDF['Defective']==False]\n",
      "    #Keep notes with no rating (75 notes), But remove notes with less than 70 pts (really bad wines):\n",
      "    pts70    =  d[d['Rating']>=70]\n",
      "    noRating =  d[d['Rating']==0]\n",
      "    dr = concat([pts70,noRating])\n",
      "    #Top 29 classic styles (Grape, Country) that I have 10 notes or more for.\n",
      "    drc  = dr.groupby(['MasterVarietal','Country']).filter(lambda x: x.count() >= 10)\n",
      "    #Add Style column to the dataframe:\n",
      "    drc['Style'] = drc.apply(lambda x: x['Country']+' > '+x['MasterVarietal'], axis=1,)\n",
      "    return drc\n",
      "\n",
      "drc=curateWineDF(raw)"
     ],
     "language": "python",
     "metadata": {},
     "outputs": [],
     "prompt_number": 4
    },
    {
     "cell_type": "code",
     "collapsed": false,
     "input": [
      "#Still in pandas DataFrame/Series: Clean up newlines and make everything lower-case:\n",
      "def cleanNewlinesAndMakeLowercase(noteSeries):\n",
      "    cleanedSeries = noteSeries.str.lower().str.replace('\\\\\\n',' ').str.replace('\\n',' ')\n",
      "    return cleanedSeries\n",
      "drc.TastingNotes = cleanNewlinesAndMakeLowercase(drc.TastingNotes)\n",
      "#drc.TastingNotes"
     ],
     "language": "python",
     "metadata": {},
     "outputs": [],
     "prompt_number": 5
    },
    {
     "cell_type": "code",
     "collapsed": false,
     "input": [
      "#drc.TastingNotes.values[0]\n",
      "#len(drc)\n",
      "ct=drc.groupby(['Style']).Country.count()\n",
      "ct.sort()\n",
      "ct"
     ],
     "language": "python",
     "metadata": {},
     "outputs": [
      {
       "metadata": {},
       "output_type": "pyout",
       "prompt_number": 6,
       "text": [
        "Style\n",
        "USA > Zinfandel                            10\n",
        "USA > Syrah                                10\n",
        "France > Gew\ufffdrztraminer                    10\n",
        "France > Riesling                          11\n",
        "Argentina > Malbec                         11\n",
        "USA > Sauvignon Blanc                      12\n",
        "France > Champagne Blend                   13\n",
        "USA > Red Blend                            13\n",
        "Italy > Corvina                            13\n",
        "France > S\ufffdmillon-Sauvignon Blanc Blend    14\n",
        "Australia > Syrah                          14\n",
        "France > Red Rhone Blend                   15\n",
        "Germany > Riesling                         16\n",
        "USA > Red Bordeaux Blend                   16\n",
        "France > Syrah                             16\n",
        "France > Gamay                             17\n",
        "USA > Chardonnay                           20\n",
        "France > Cabernet Franc                    20\n",
        "Lebanon > Red Blend                        23\n",
        "France > Pinot Noir                        24\n",
        "Spain > Tempranillo                        27\n",
        "USA > Pinot Noir                           28\n",
        "France > Chardonnay                        28\n",
        "Italy > Nebbiolo                           33\n",
        "USA > Cabernet Sauvignon                   35\n",
        "Italy > Sangiovese                         39\n",
        "France > Red Bordeaux Blend                46\n",
        "Name: Country, dtype: int64"
       ]
      }
     ],
     "prompt_number": 6
    },
    {
     "cell_type": "markdown",
     "metadata": {},
     "source": [
      "###Now do Bag-Of-Words in GraphLab:"
     ]
    },
    {
     "cell_type": "code",
     "collapsed": false,
     "input": [
      "#Convert the Pandas DataFrame into a GraphLab SFrame:\n",
      "sf=gl.SFrame(drc)\n",
      "\n",
      "def makeBOW(sarray):\n",
      "    rawbow = gl.text_analytics.count_words(sarray)\n",
      "    #Trip 'stopwords' - e.g. 'and','the','on'\n",
      "    trimmedbow = rawbow.dict_trim_by_keys(gl.text_analytics.stopwords(), exclude=True)\n",
      "    #Inspect:\n",
      "    #print trimmedbow[102]\n",
      "    #print trimmedbow[trimmedbow.dict_has_any_keys(['pommaceous'])][0]\n",
      "    return trimmedbow\n",
      "\n",
      "sf['bow'] = makeBOW(sf['TastingNotes'])\n",
      "#sf['bow']"
     ],
     "language": "python",
     "metadata": {},
     "outputs": [],
     "prompt_number": 21
    },
    {
     "cell_type": "code",
     "collapsed": false,
     "input": [
      "def makeTFIDF(bowSArray):\n",
      "    tfidf = gl.text_analytics.tf_idf(bowSArray)['docs']\n",
      "    return tfidf\n",
      "sf['tfidf'] = makeTFIDF(sf['bow'])\n",
      "#sf[['Wine','tfidf']][0]"
     ],
     "language": "python",
     "metadata": {},
     "outputs": [],
     "prompt_number": 22
    },
    {
     "cell_type": "markdown",
     "metadata": {},
     "source": [
      "###Slice out only the relevant columns: Wine Name, Style, TastingNotes, tfidf"
     ]
    },
    {
     "cell_type": "code",
     "collapsed": false,
     "input": [
      "data = sf[['Wine','Style','TastingNotes','tfidf']]\n",
      "#data.head()"
     ],
     "language": "python",
     "metadata": {},
     "outputs": [],
     "prompt_number": 25
    },
    {
     "cell_type": "code",
     "collapsed": false,
     "input": [
      "# Construct a feature hasher with default options.\n",
      "hasher = gl.feature_engineering.create(data, gl.feature_engineering.FeatureHasher(features=['tfidf']))\n",
      "\n",
      "# Transform the data using the hasher.\n",
      "hashed_sf = hasher.transform(data)\n",
      "# Save the transformer.\n",
      "hasher.save('save-path')\n",
      "#hashed_sf['hashed_features'].head(1)[0]\n"
     ],
     "language": "python",
     "metadata": {},
     "outputs": [],
     "prompt_number": 26
    },
    {
     "cell_type": "markdown",
     "metadata": {},
     "source": [
      "###Learn Topic Model"
     ]
    },
    {
     "cell_type": "code",
     "collapsed": false,
     "input": [
      "\n",
      "def topicModel():\n",
      "    m = gl.topic_model.create(sf['bow']);\n",
      "    #m.get_topics().print_rows(num_rows=50, num_columns=3)\n",
      "    #print m.get_topics(output_type='topic_words')\n",
      "    styles = sf['Wine'][1:40]\n",
      "    p      = m.predict(sf['bow'][1:40])\n",
      "    resultSF=gl.SFrame({'styles':styles,'prediction':p})\n",
      "    resultSF.sort('prediction')\n",
      "    print m.get_topics().print_rows(num_rows=50, num_columns=3)\n",
      "    print resultSF\n",
      "\n",
      "#topicModel()"
     ],
     "language": "python",
     "metadata": {},
     "outputs": [],
     "prompt_number": 28
    },
    {
     "cell_type": "markdown",
     "metadata": {},
     "source": [
      "#Classifier - Boosted Trees?"
     ]
    },
    {
     "cell_type": "code",
     "collapsed": false,
     "input": [
      "hashed_sf.column_names;"
     ],
     "language": "python",
     "metadata": {},
     "outputs": [],
     "prompt_number": 29
    },
    {
     "cell_type": "code",
     "collapsed": false,
     "input": [
      "\n",
      "def getWineGuesserModel():\n",
      "    train_set, test_set = hashed_sf.random_split(0.9)\n",
      "    train_set.column_names\n",
      "    model = gl.boosted_trees_classifier.create(train_set, target='Style',features=['hashed_features']\n",
      "                        #,max_depth=5\n",
      "                        #,max_iterations=5\n",
      "                        ,verbose=False\n",
      "                        );\n",
      "    classification = model.classify(test_set)\n",
      "    results=model.evaluate(test_set)\n",
      "    print results['accuracy']\n",
      "    return model\n",
      "    #return results['accuracy']\n",
      "model = getWineGuesserModel()\n",
      "type(model)"
     ],
     "language": "python",
     "metadata": {},
     "outputs": [
      {
       "output_type": "stream",
       "stream": "stdout",
       "text": [
        "0.283018867925\n"
       ]
      },
      {
       "metadata": {},
       "output_type": "pyout",
       "prompt_number": 30,
       "text": [
        "graphlab.toolkits.classifier.boosted_trees_classifier.BoostedTreesClassifier"
       ]
      }
     ],
     "prompt_number": 30
    },
    {
     "cell_type": "code",
     "collapsed": false,
     "input": [
      "def getWineGuesserModel2():\n",
      "    train_set, test_set = hashed_sf.random_split(0.9)\n",
      "    train_set.column_names\n",
      "    model = gl.boosted_trees_classifier.create(train_set, target='Style',features=['hashed_features']\n",
      "                        #,max_depth=5\n",
      "                        ,verbose=False\n",
      "                        );\n",
      "    classification = model.classify(test_set)\n",
      "    results=model.evaluate(test_set)\n",
      "    #print results['accuracy']\n",
      "    return results['accuracy']\n",
      "#model = getWineGuesserModel2()\n",
      "def getWineGuesserModel3():\n",
      "    train_set, test_set = hashed_sf.random_split(0.9)\n",
      "    train_set.column_names\n",
      "    model = gl.boosted_trees_classifier.create(train_set, target='Style',features=['hashed_features']\n",
      "                        #,max_depth=3\n",
      "                        ,verbose=False\n",
      "                        );\n",
      "    classification = model.classify(test_set)\n",
      "    results=model.evaluate(test_set)\n",
      "    #print results['accuracy']\n",
      "    return results['accuracy']\n",
      "#model = getWineGuesserModel3()"
     ],
     "language": "python",
     "metadata": {},
     "outputs": [],
     "prompt_number": 31
    },
    {
     "cell_type": "code",
     "collapsed": false,
     "input": [
      "\"\"\"\n",
      "maxIt = []\n",
      "regular = []\n",
      "maxDepth = []\n",
      "for i in range(100):\n",
      "    acc = getWineGuesserModel()\n",
      "    #print acc\n",
      "    maxIt.append(acc)\n",
      "\n",
      "for i in range(100):\n",
      "    acc = getWineGuesserModel2()\n",
      "    maxDepth.append(acc)\n",
      "\n",
      "for i in range(100):\n",
      "    acc = getWineGuesserModel3()\n",
      "    regular.append(acc)\n",
      "\n",
      "#accuracy = pd.DataFrame([maxIt,regular,maxDepth]).transpose()\n",
      "print 'done'\n",
      "\"\"\""
     ],
     "language": "python",
     "metadata": {},
     "outputs": [
      {
       "metadata": {},
       "output_type": "pyout",
       "prompt_number": 32,
       "text": [
        "\"\\nmaxIt = []\\nregular = []\\nmaxDepth = []\\nfor i in range(100):\\n    acc = getWineGuesserModel()\\n    #print acc\\n    maxIt.append(acc)\\n\\nfor i in range(100):\\n    acc = getWineGuesserModel2()\\n    maxDepth.append(acc)\\n\\nfor i in range(100):\\n    acc = getWineGuesserModel3()\\n    regular.append(acc)\\n\\n#accuracy = pd.DataFrame([maxIt,regular,maxDepth]).transpose()\\nprint 'done'\\n\""
       ]
      }
     ],
     "prompt_number": 32
    },
    {
     "cell_type": "code",
     "collapsed": false,
     "input": [
      "#accuracy.describe()"
     ],
     "language": "python",
     "metadata": {},
     "outputs": [],
     "prompt_number": 33
    },
    {
     "cell_type": "code",
     "collapsed": false,
     "input": [
      "a=test_set[['Wine','TastingNotes']]\n",
      "a['predictedStyle']=classification['class']\n",
      "a['actualStyle'] = test_set['Style']\n",
      "a['probability'] = classification['probability']\n"
     ],
     "language": "python",
     "metadata": {},
     "outputs": [
      {
       "ename": "NameError",
       "evalue": "name 'test_set' is not defined",
       "output_type": "pyerr",
       "traceback": [
        "\u001b[0;31m---------------------------------------------------------------------------\u001b[0m\n\u001b[0;31mNameError\u001b[0m                                 Traceback (most recent call last)",
        "\u001b[0;32m<ipython-input-34-ca7c85c4f441>\u001b[0m in \u001b[0;36m<module>\u001b[0;34m()\u001b[0m\n\u001b[0;32m----> 1\u001b[0;31m \u001b[0ma\u001b[0m\u001b[0;34m=\u001b[0m\u001b[0mtest_set\u001b[0m\u001b[0;34m[\u001b[0m\u001b[0;34m[\u001b[0m\u001b[0;34m'Wine'\u001b[0m\u001b[0;34m,\u001b[0m\u001b[0;34m'TastingNotes'\u001b[0m\u001b[0;34m]\u001b[0m\u001b[0;34m]\u001b[0m\u001b[0;34m\u001b[0m\u001b[0m\n\u001b[0m\u001b[1;32m      2\u001b[0m \u001b[0ma\u001b[0m\u001b[0;34m[\u001b[0m\u001b[0;34m'predictedStyle'\u001b[0m\u001b[0;34m]\u001b[0m\u001b[0;34m=\u001b[0m\u001b[0mclassification\u001b[0m\u001b[0;34m[\u001b[0m\u001b[0;34m'class'\u001b[0m\u001b[0;34m]\u001b[0m\u001b[0;34m\u001b[0m\u001b[0m\n\u001b[1;32m      3\u001b[0m \u001b[0ma\u001b[0m\u001b[0;34m[\u001b[0m\u001b[0;34m'actualStyle'\u001b[0m\u001b[0;34m]\u001b[0m \u001b[0;34m=\u001b[0m \u001b[0mtest_set\u001b[0m\u001b[0;34m[\u001b[0m\u001b[0;34m'Style'\u001b[0m\u001b[0;34m]\u001b[0m\u001b[0;34m\u001b[0m\u001b[0m\n\u001b[1;32m      4\u001b[0m \u001b[0ma\u001b[0m\u001b[0;34m[\u001b[0m\u001b[0;34m'probability'\u001b[0m\u001b[0;34m]\u001b[0m \u001b[0;34m=\u001b[0m \u001b[0mclassification\u001b[0m\u001b[0;34m[\u001b[0m\u001b[0;34m'probability'\u001b[0m\u001b[0;34m]\u001b[0m\u001b[0;34m\u001b[0m\u001b[0m\n",
        "\u001b[0;31mNameError\u001b[0m: name 'test_set' is not defined"
       ]
      }
     ],
     "prompt_number": 34
    },
    {
     "cell_type": "raw",
     "metadata": {},
     "source": [
      "a[a['probability']>.5]"
     ]
    },
    {
     "cell_type": "markdown",
     "metadata": {},
     "source": [
      "#Now write a function to featurize input:"
     ]
    },
    {
     "cell_type": "code",
     "collapsed": false,
     "input": [
      "def singleNoteTFIDF(noteSArray,libSArray):\n",
      "    #append the entire library to calculate tfidf\n",
      "    notePlusLib = noteSArray.append(libSArray)\n",
      "    tfidf = makeTFIDF(notePlusLib)\n",
      "    #then only take the first row to get the tfidf for this tasting note:\n",
      "    firstRow = tfidf[0:1]\n",
      "    #print \"tf-idf:\"\n",
      "    #print firstRow[0]\n",
      "    return [firstRow,firstRow[0]]\n",
      "\n",
      "def guessWineStyle(note):\n",
      "    print 'started'\n",
      "    noteArr = pd.Series([note])\n",
      "    noteDF = pd.DataFrame({'TastingNotes':cleanNewlinesAndMakeLowercase(noteArr)})\n",
      "    noteSF = gl.SFrame(noteDF)\n",
      "    noteSF['bow'] = makeBOW(noteSF['TastingNotes'])\n",
      "    noteSF['tfidf'] = singleNoteTFIDF(noteSF['bow'],sf['bow'])[0]\n",
      "    hashedNoteSF = hasher.transform(noteSF)\n",
      "    hashedNoteSF\n",
      "    classification = model.predict_topk(hashedNoteSF,output_type = 'probability',k=5)\n",
      "    classification['probability'] = (classification['probability']).apply(lambda x: round(x,3))\n",
      "    print \"Prediction: \"\n",
      "    print model.predict_topk(hashedNoteSF)\n",
      "    print \"TF-IDF: \" \n",
      "    print singleNoteTFIDF(noteSF['bow'],sf['bow'])[1]\n",
      "    return #classification.sort(['probability'],ascending=False)\n",
      "\n",
      "\n"
     ],
     "language": "python",
     "metadata": {},
     "outputs": [],
     "prompt_number": 35
    },
    {
     "cell_type": "markdown",
     "metadata": {},
     "source": [
      "##WineGuesser"
     ]
    },
    {
     "cell_type": "code",
     "collapsed": false,
     "input": [
      "tastingNote = \"sharp bright fruity slightly acidic\"\n",
      "guessWineStyle(tastingNote)"
     ],
     "language": "python",
     "metadata": {},
     "outputs": [
      {
       "output_type": "stream",
       "stream": "stdout",
       "text": [
        "started\n",
        "Prediction: "
       ]
      },
      {
       "output_type": "stream",
       "stream": "stdout",
       "text": [
        "\n",
        "+----+--------------------------+-----------------+\n",
        "| id |          class           |   probability   |\n",
        "+----+--------------------------+-----------------+\n",
        "| 0  |    Italy > Sangiovese    |  0.108104866098 |\n",
        "| 0  |     USA > Pinot Noir     | 0.0907232767782 |\n",
        "| 0  | USA > Cabernet Sauvignon | 0.0695183306733 |\n",
        "+----+--------------------------+-----------------+\n",
        "[3 rows x 3 columns]\n",
        "\n",
        "TF-IDF: \n",
        "{'acidic': 3.337827767729566, 'bright': 2.187922184673906, 'slightly': 2.293282700331732, 'fruity': 3.146772530966857, 'sharp': 4.490507277667952}"
       ]
      },
      {
       "output_type": "stream",
       "stream": "stdout",
       "text": [
        "\n"
       ]
      }
     ],
     "prompt_number": 36
    },
    {
     "cell_type": "code",
     "collapsed": false,
     "input": [
      "tastingNote = \"pepper and smoke with blackberry\"\n",
      "guessWineStyle(tastingNote)\n"
     ],
     "language": "python",
     "metadata": {},
     "outputs": [
      {
       "output_type": "stream",
       "stream": "stdout",
       "text": [
        "started\n",
        "Prediction: "
       ]
      },
      {
       "output_type": "stream",
       "stream": "stdout",
       "text": [
        "\n",
        "+----+--------------------+-----------------+\n",
        "| id |       class        |   probability   |\n",
        "+----+--------------------+-----------------+\n",
        "| 0  |   France > Syrah   |  0.676052400857 |\n",
        "| 0  |    USA > Syrah     | 0.0479145821255 |\n",
        "| 0  | Italy > Sangiovese | 0.0325986458283 |\n",
        "+----+--------------------+-----------------+\n",
        "[3 rows x 3 columns]\n",
        "\n",
        "TF-IDF: \n",
        "{'pepper': 2.5686946801916988, 'blackberry': 3.0241702088745246, 'smoke': 3.979681653901961}"
       ]
      },
      {
       "output_type": "stream",
       "stream": "stdout",
       "text": [
        "\n"
       ]
      }
     ],
     "prompt_number": 37
    },
    {
     "cell_type": "code",
     "collapsed": false,
     "input": [
      "tastingNote = \"lemon, petrol, saffron\"\n",
      "guessWineStyle(tastingNote)"
     ],
     "language": "python",
     "metadata": {},
     "outputs": [
      {
       "output_type": "stream",
       "stream": "stdout",
       "text": [
        "started\n",
        "Prediction: "
       ]
      },
      {
       "output_type": "stream",
       "stream": "stdout",
       "text": [
        "\n",
        "+----+--------------------+----------------+\n",
        "| id |       class        |  probability   |\n",
        "+----+--------------------+----------------+\n",
        "| 0  | Germany > Riesling | 0.343441306276 |\n",
        "| 0  | France > Riesling  | 0.114265663049 |\n",
        "| 0  | Italy > Sangiovese | 0.060087491299 |\n",
        "+----+--------------------+----------------+\n",
        "[3 rows x 3 columns]\n",
        "\n",
        "TF-IDF: \n",
        "{'petrol': 3.509678024656225, 'lemon': 3.0633909220278057, 'saffron': 3.3918949889998418}"
       ]
      },
      {
       "output_type": "stream",
       "stream": "stdout",
       "text": [
        "\n"
       ]
      }
     ],
     "prompt_number": 38
    },
    {
     "cell_type": "code",
     "collapsed": false,
     "input": [
      "tastingNote = \"gold with apples, pears, and crisp acidity\"\n",
      "guessWineStyle(tastingNote)"
     ],
     "language": "python",
     "metadata": {},
     "outputs": [
      {
       "output_type": "stream",
       "stream": "stdout",
       "text": [
        "started\n",
        "Prediction: "
       ]
      },
      {
       "output_type": "stream",
       "stream": "stdout",
       "text": [
        "\n",
        "+----+--------------------+-----------------+\n",
        "| id |       class        |   probability   |\n",
        "+----+--------------------+-----------------+\n",
        "| 0  | Italy > Sangiovese |  0.105730971554 |\n",
        "| 0  |  USA > Pinot Noir  | 0.0887310677359 |\n",
        "| 0  | France > Riesling  | 0.0726697794709 |\n",
        "+----+--------------------+-----------------+\n",
        "[3 rows x 3 columns]\n",
        "\n",
        "TF-IDF: \n",
        "{'gold': 2.8810693652338513, 'crisp': 4.490507277667952, 'pears': 5.183654458227897, 'acidity': 1.3335068565178383, 'apples': 3.884371474097636}"
       ]
      },
      {
       "output_type": "stream",
       "stream": "stdout",
       "text": [
        "\n"
       ]
      }
     ],
     "prompt_number": 39
    },
    {
     "cell_type": "code",
     "collapsed": false,
     "input": [
      "tastingNote = \"orange peel rose lychee\"\n",
      "guessWineStyle(tastingNote)"
     ],
     "language": "python",
     "metadata": {},
     "outputs": [
      {
       "output_type": "stream",
       "stream": "stdout",
       "text": [
        "started\n",
        "Prediction: "
       ]
      },
      {
       "output_type": "stream",
       "stream": "stdout",
       "text": [
        "\n",
        "+----+--------------------------+-----------------+\n",
        "| id |          class           |   probability   |\n",
        "+----+--------------------------+-----------------+\n",
        "| 0  |    Italy > Sangiovese    |  0.112681815363 |\n",
        "| 0  |     USA > Pinot Noir     | 0.0945643234396 |\n",
        "| 0  | USA > Cabernet Sauvignon | 0.0724616012585 |\n",
        "+----+--------------------------+-----------------+\n",
        "[3 rows x 3 columns]\n",
        "\n",
        "TF-IDF: \n",
        "{'lychee': 4.490507277667952, 'rose': 3.509678024656225, 'peel': 5.589119566336061, 'orange': 3.4490534028397906}"
       ]
      },
      {
       "output_type": "stream",
       "stream": "stdout",
       "text": [
        "\n"
       ]
      }
     ],
     "prompt_number": 40
    },
    {
     "cell_type": "code",
     "collapsed": false,
     "input": [
      "guessWineStyle(\"dark gold muted\")"
     ],
     "language": "python",
     "metadata": {},
     "outputs": [
      {
       "output_type": "stream",
       "stream": "stdout",
       "text": [
        "started\n",
        "Prediction: "
       ]
      },
      {
       "output_type": "stream",
       "stream": "stdout",
       "text": [
        "\n",
        "+----+--------------------------+-----------------+\n",
        "| id |          class           |   probability   |\n",
        "+----+--------------------------+-----------------+\n",
        "| 0  |    Italy > Sangiovese    |  0.107868474318 |\n",
        "| 0  |     USA > Pinot Noir     |  0.090524893138 |\n",
        "| 0  | USA > Cabernet Sauvignon | 0.0837695086171 |\n",
        "+----+--------------------------+-----------------+\n",
        "[3 rows x 3 columns]\n",
        "\n",
        "TF-IDF: \n",
        "{'muted': 4.8959723857761155, 'dark': 1.7283898552954657, 'gold': 2.8810693652338513}"
       ]
      },
      {
       "output_type": "stream",
       "stream": "stdout",
       "text": [
        "\n"
       ]
      }
     ],
     "prompt_number": 41
    },
    {
     "cell_type": "code",
     "collapsed": false,
     "input": [
      "guessWineStyle(\"petrol, high acidity, lemon, and saffron/ginger spice\")"
     ],
     "language": "python",
     "metadata": {},
     "outputs": [
      {
       "output_type": "stream",
       "stream": "stdout",
       "text": [
        "started\n",
        "Prediction: "
       ]
      },
      {
       "output_type": "stream",
       "stream": "stdout",
       "text": [
        "\n",
        "+----+-------------------------------+-----------------+\n",
        "| id |             class             |   probability   |\n",
        "+----+-------------------------------+-----------------+\n",
        "| 0  |       France > Riesling       |  0.550787758337 |\n",
        "| 0  |       Germany > Riesling      |  0.110318842214 |\n",
        "| 0  | France > S\ufffdmillon-Sauvigno... | 0.0651729352647 |\n",
        "+----+-------------------------------+-----------------+\n",
        "[3 rows x 3 columns]\n",
        "\n",
        "TF-IDF: \n",
        "{'lemon': 3.0633909220278057, 'acidity': 1.3335068565178383, 'petrol': 3.509678024656225, 'saffron': 3.3918949889998418, 'high': 2.331023028314579, 'ginger': 5.589119566336061, 'spice': 3.3918949889998418}"
       ]
      },
      {
       "output_type": "stream",
       "stream": "stdout",
       "text": [
        "\n"
       ]
      }
     ],
     "prompt_number": 31
    },
    {
     "cell_type": "code",
     "collapsed": false,
     "input": [],
     "language": "python",
     "metadata": {},
     "outputs": [],
     "prompt_number": 41
    },
    {
     "cell_type": "code",
     "collapsed": false,
     "input": [],
     "language": "python",
     "metadata": {},
     "outputs": []
    },
    {
     "cell_type": "code",
     "collapsed": false,
     "input": [],
     "language": "python",
     "metadata": {},
     "outputs": []
    }
   ],
   "metadata": {}
  }
 ]
}